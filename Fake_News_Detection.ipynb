{
  "cells": [
    {
      "cell_type": "markdown",
      "id": "71db536e",
      "metadata": {
        "id": "71db536e"
      },
      "source": [
        "## Importing required packages"
      ]
    },
    {
      "cell_type": "code",
      "execution_count": 1,
      "id": "8abd648a",
      "metadata": {
        "id": "8abd648a"
      },
      "outputs": [],
      "source": [
        "from sklearn.feature_extraction.text import TfidfVectorizer\n",
        "from sklearn.datasets import fetch_20newsgroups\n",
        "from nltk.corpus import names\n",
        "from nltk.stem import WordNetLemmatizer\n",
        "from collections import Counter\n",
        "from nltk.corpus import stopwords"
      ]
    },
    {
      "cell_type": "code",
      "execution_count": 2,
      "id": "d35cae82",
      "metadata": {
        "colab": {
          "base_uri": "https://localhost:8080/"
        },
        "id": "d35cae82",
        "outputId": "c680836d-016a-432f-80c7-23717ebc5c09"
      },
      "outputs": [
        {
          "output_type": "stream",
          "name": "stderr",
          "text": [
            "[nltk_data] Downloading package omw-1.4 to /root/nltk_data...\n",
            "[nltk_data] Downloading package names to /root/nltk_data...\n",
            "[nltk_data]   Unzipping corpora/names.zip.\n",
            "[nltk_data] Downloading package stopwords to /root/nltk_data...\n",
            "[nltk_data]   Unzipping corpora/stopwords.zip.\n",
            "[nltk_data] Downloading package wordnet to /root/nltk_data...\n"
          ]
        },
        {
          "output_type": "execute_result",
          "data": {
            "text/plain": [
              "True"
            ]
          },
          "metadata": {},
          "execution_count": 2
        }
      ],
      "source": [
        "# use this to download required packages to nltk library\n",
        "\n",
        "import nltk\n",
        "nltk.download('omw-1.4')\n",
        "nltk.download('names')\n",
        "nltk.download('stopwords')\n",
        "nltk.download('wordnet')"
      ]
    },
    {
      "cell_type": "markdown",
      "id": "a9d3b37a",
      "metadata": {
        "id": "a9d3b37a"
      },
      "source": [
        "## Function to check whelther word is a alphabet"
      ]
    },
    {
      "cell_type": "code",
      "execution_count": 3,
      "id": "32c0efa7",
      "metadata": {
        "id": "32c0efa7"
      },
      "outputs": [],
      "source": [
        "def is_letter_only(word):\n",
        "    return word.isalpha()"
      ]
    },
    {
      "cell_type": "code",
      "execution_count": 4,
      "id": "bf61fac8",
      "metadata": {
        "id": "bf61fac8"
      },
      "outputs": [],
      "source": [
        "all_names = set(names.words())\n",
        "lemmatizer = WordNetLemmatizer()\n",
        "stop_words = stopwords.words('english')"
      ]
    },
    {
      "cell_type": "markdown",
      "id": "24f577a5",
      "metadata": {
        "id": "24f577a5"
      },
      "source": [
        "## Function to clean text"
      ]
    },
    {
      "cell_type": "code",
      "execution_count": 5,
      "id": "9a1c4572",
      "metadata": {
        "id": "9a1c4572"
      },
      "outputs": [],
      "source": [
        "def cleaned_text(docs):\n",
        "    docs_cleaned = list()\n",
        "    for doc in docs:\n",
        "        doc = doc.lower()\n",
        "        \"\"\"\"\"\"\n",
        "        doc_cleaned = ' '.join(lemmatizer.lemmatize(word) for word in doc.split()\n",
        "                            if is_letter_only(word) and word not in all_names and word not in stop_words)\n",
        "        docs_cleaned.append(doc_cleaned)\n",
        "    return docs_cleaned"
      ]
    },
    {
      "cell_type": "markdown",
      "id": "38ff282c",
      "metadata": {
        "id": "38ff282c"
      },
      "source": [
        "## Declaring categories to classify and fetching dataset for training and testing"
      ]
    },
    {
      "cell_type": "code",
      "execution_count": 6,
      "id": "35590e04",
      "metadata": {
        "id": "35590e04"
      },
      "outputs": [],
      "source": [
        "categories = ['comp.graphics','sci.med']\n",
        "\n",
        "data_train = fetch_20newsgroups(subset='train', categories= categories, random_state=42)\n",
        "data_test = fetch_20newsgroups(subset='test', categories=categories, random_state=42)"
      ]
    },
    {
      "cell_type": "markdown",
      "id": "46950dfa",
      "metadata": {
        "id": "46950dfa"
      },
      "source": [
        "## Separating data and labels"
      ]
    },
    {
      "cell_type": "code",
      "execution_count": 7,
      "id": "35aa4e27",
      "metadata": {
        "id": "35aa4e27"
      },
      "outputs": [],
      "source": [
        "cleaned_train = cleaned_text(data_train.data)\n",
        "label_train = data_train.target\n",
        "\n",
        "cleaned_test = cleaned_text(data_test.data)\n",
        "label_test = data_test.target"
      ]
    },
    {
      "cell_type": "markdown",
      "id": "648afb5c",
      "metadata": {
        "id": "648afb5c"
      },
      "source": [
        "# Training and Testing Model\n",
        "\n"
      ]
    },
    {
      "cell_type": "markdown",
      "source": [
        "### Converting textual features into vectors"
      ],
      "metadata": {
        "id": "cFpYMRXBqdcM"
      },
      "id": "cFpYMRXBqdcM"
    },
    {
      "cell_type": "code",
      "execution_count": 8,
      "id": "c67aee63",
      "metadata": {
        "id": "c67aee63"
      },
      "outputs": [],
      "source": [
        "tfidf_vectorizer= TfidfVectorizer(stop_words='english',max_features=None)\n",
        "\n",
        "term_docs_train = tfidf_vectorizer.fit_transform(cleaned_train)\n",
        "term_docs_test = tfidf_vectorizer.transform(cleaned_test)"
      ]
    },
    {
      "cell_type": "markdown",
      "source": [
        "## Using SVM"
      ],
      "metadata": {
        "id": "-jfMvy4Lpp7e"
      },
      "id": "-jfMvy4Lpp7e"
    },
    {
      "cell_type": "code",
      "execution_count": 9,
      "id": "cf79322e",
      "metadata": {
        "colab": {
          "base_uri": "https://localhost:8080/"
        },
        "id": "cf79322e",
        "outputId": "de33da3f-b1bb-4418-b1c5-cdb38db38ff5"
      },
      "outputs": [
        {
          "output_type": "stream",
          "name": "stdout",
          "text": [
            "The accuracy of binary classification is : 95.4%\n"
          ]
        }
      ],
      "source": [
        "from sklearn.svm import SVC\n",
        "\n",
        "svm = SVC(kernel='linear', random_state=42)\n",
        "svm.fit(term_docs_train, label_train)\n",
        "accuracy = svm.score(term_docs_test, label_test)\n",
        "print(\"The accuracy of binary classification is : {0:.1f}%\".format(accuracy*100))"
      ]
    },
    {
      "cell_type": "code",
      "source": [
        "from sklearn.metrics import classification_report\n",
        "prediction = svm.predict(term_docs_test)\n",
        "report_svm = classification_report(label_test, prediction)\n",
        "print(report_svm)"
      ],
      "metadata": {
        "colab": {
          "base_uri": "https://localhost:8080/"
        },
        "id": "xgLHupcClz3D",
        "outputId": "6c676303-27ff-4b06-d628-646900920098"
      },
      "id": "xgLHupcClz3D",
      "execution_count": 11,
      "outputs": [
        {
          "output_type": "stream",
          "name": "stdout",
          "text": [
            "              precision    recall  f1-score   support\n",
            "\n",
            "           0       0.96      0.95      0.95       389\n",
            "           1       0.95      0.96      0.95       396\n",
            "\n",
            "    accuracy                           0.95       785\n",
            "   macro avg       0.95      0.95      0.95       785\n",
            "weighted avg       0.95      0.95      0.95       785\n",
            "\n"
          ]
        }
      ]
    },
    {
      "cell_type": "markdown",
      "source": [
        "## Using Logistic Regression"
      ],
      "metadata": {
        "id": "l7MV_nkcpvzw"
      },
      "id": "l7MV_nkcpvzw"
    },
    {
      "cell_type": "code",
      "source": [
        "from sklearn.linear_model import LogisticRegression\n",
        "\n",
        "lr = LogisticRegression()\n",
        "lr.fit(term_docs_train, label_train)\n",
        "accuracy = lr.score(term_docs_test, label_test)\n",
        "print(\"The accuracy of binary classification is : {0:.1f}%\".format(accuracy*100))"
      ],
      "metadata": {
        "colab": {
          "base_uri": "https://localhost:8080/"
        },
        "id": "vnufQjAsnyY2",
        "outputId": "868fd1c6-5f55-4c00-e8ea-4e016c617096"
      },
      "id": "vnufQjAsnyY2",
      "execution_count": 17,
      "outputs": [
        {
          "output_type": "stream",
          "name": "stdout",
          "text": [
            "The accuracy of binary classification is : 95.0%\n"
          ]
        }
      ]
    },
    {
      "cell_type": "code",
      "source": [
        "from sklearn.metrics import classification_report\n",
        "prediction = lr.predict(term_docs_test)\n",
        "report_lr = classification_report(label_test, prediction)\n",
        "print(report_lr)"
      ],
      "metadata": {
        "colab": {
          "base_uri": "https://localhost:8080/"
        },
        "id": "K04iQo1Fol5L",
        "outputId": "92f6207b-f877-4467-acd0-4a2e37e5ad43"
      },
      "id": "K04iQo1Fol5L",
      "execution_count": 13,
      "outputs": [
        {
          "output_type": "stream",
          "name": "stdout",
          "text": [
            "              precision    recall  f1-score   support\n",
            "\n",
            "           0       0.96      0.94      0.95       389\n",
            "           1       0.94      0.96      0.95       396\n",
            "\n",
            "    accuracy                           0.95       785\n",
            "   macro avg       0.95      0.95      0.95       785\n",
            "weighted avg       0.95      0.95      0.95       785\n",
            "\n"
          ]
        }
      ]
    },
    {
      "cell_type": "markdown",
      "source": [
        "## Using Random Forest"
      ],
      "metadata": {
        "id": "pms9vZpXp2np"
      },
      "id": "pms9vZpXp2np"
    },
    {
      "cell_type": "code",
      "source": [
        "from sklearn.ensemble import RandomForestClassifier\n",
        "\n",
        "rfc = RandomForestClassifier()\n",
        "rfc.fit(term_docs_train, label_train)\n",
        "accuracy = rfc.score(term_docs_test, label_test)\n",
        "print(\"The accuracy of binary classification is : {0:.1f}%\".format(accuracy*100))"
      ],
      "metadata": {
        "colab": {
          "base_uri": "https://localhost:8080/"
        },
        "id": "HIusnpiLots9",
        "outputId": "25ae6034-65a9-49fa-9c1d-16f07c962826"
      },
      "id": "HIusnpiLots9",
      "execution_count": 14,
      "outputs": [
        {
          "output_type": "stream",
          "name": "stdout",
          "text": [
            "The accuracy of binary classification is : 87.3%\n"
          ]
        }
      ]
    },
    {
      "cell_type": "code",
      "source": [
        "from sklearn.metrics import classification_report\n",
        "prediction = rfc.predict(term_docs_test)\n",
        "report_rfc = classification_report(label_test, prediction)\n",
        "print(report_rfc)"
      ],
      "metadata": {
        "colab": {
          "base_uri": "https://localhost:8080/"
        },
        "id": "fhWXkYdUpHIA",
        "outputId": "7fa0260c-b913-407a-d93f-326d89153e2d"
      },
      "id": "fhWXkYdUpHIA",
      "execution_count": 18,
      "outputs": [
        {
          "output_type": "stream",
          "name": "stdout",
          "text": [
            "              precision    recall  f1-score   support\n",
            "\n",
            "           0       0.81      0.96      0.88       389\n",
            "           1       0.96      0.78      0.86       396\n",
            "\n",
            "    accuracy                           0.87       785\n",
            "   macro avg       0.89      0.87      0.87       785\n",
            "weighted avg       0.89      0.87      0.87       785\n",
            "\n"
          ]
        }
      ]
    },
    {
      "cell_type": "code",
      "source": [
        "import tensorflow as tf\n",
        "from tensorflow.keras import layers\n",
        "from tensorflow.keras import losses"
      ],
      "metadata": {
        "id": "0OEOwIr1r1q0"
      },
      "id": "0OEOwIr1r1q0",
      "execution_count": 28,
      "outputs": []
    },
    {
      "cell_type": "code",
      "source": [
        "max_features = 500\n",
        "sequence_length = 250\n",
        "embedding_dim = 16\n",
        "\n",
        "model = tf.keras.Sequential([\n",
        "  layers.Embedding(max_features + 1, embedding_dim),\n",
        "  layers.Dropout(0.2),\n",
        "  layers.Dense(128),\n",
        "  layers.GlobalAveragePooling1D(),\n",
        "  layers.Dropout(0.2),\n",
        "  layers.Dense(32),\n",
        "  layers.Dense(1)])\n",
        "\n",
        "model.summary()"
      ],
      "metadata": {
        "colab": {
          "base_uri": "https://localhost:8080/"
        },
        "id": "v6uaqBhWt-kS",
        "outputId": "cd51cc58-bb43-46fd-e206-fc4963a8507e"
      },
      "id": "v6uaqBhWt-kS",
      "execution_count": 69,
      "outputs": [
        {
          "output_type": "stream",
          "name": "stdout",
          "text": [
            "Model: \"sequential_3\"\n",
            "_________________________________________________________________\n",
            " Layer (type)                Output Shape              Param #   \n",
            "=================================================================\n",
            " embedding_4 (Embedding)     (None, None, 16)          8016      \n",
            "                                                                 \n",
            " dropout_2 (Dropout)         (None, None, 16)          0         \n",
            "                                                                 \n",
            " dense_6 (Dense)             (None, None, 128)         2176      \n",
            "                                                                 \n",
            " global_average_pooling1d_3  (None, 128)               0         \n",
            "  (GlobalAveragePooling1D)                                       \n",
            "                                                                 \n",
            " dropout_3 (Dropout)         (None, 128)               0         \n",
            "                                                                 \n",
            " dense_7 (Dense)             (None, 32)                4128      \n",
            "                                                                 \n",
            " dense_8 (Dense)             (None, 1)                 33        \n",
            "                                                                 \n",
            "=================================================================\n",
            "Total params: 14353 (56.07 KB)\n",
            "Trainable params: 14353 (56.07 KB)\n",
            "Non-trainable params: 0 (0.00 Byte)\n",
            "_________________________________________________________________\n"
          ]
        }
      ]
    },
    {
      "cell_type": "code",
      "source": [
        "model.compile(loss=losses.BinaryCrossentropy(),\n",
        "              optimizer='adam',\n",
        "              metrics=tf.metrics.BinaryAccuracy())"
      ],
      "metadata": {
        "id": "OktTT71RwMxf"
      },
      "id": "OktTT71RwMxf",
      "execution_count": 73,
      "outputs": []
    },
    {
      "cell_type": "code",
      "source": [
        "print(term_docs_train[0])"
      ],
      "metadata": {
        "id": "OMJ2J_ktxE6B"
      },
      "id": "OMJ2J_ktxE6B",
      "execution_count": null,
      "outputs": []
    },
    {
      "cell_type": "code",
      "source": [
        "model.fit(term_docs_test, label_test, epochs=5)"
      ],
      "metadata": {
        "colab": {
          "base_uri": "https://localhost:8080/"
        },
        "id": "b4POsIJmwVE9",
        "outputId": "668daa51-b70c-4e57-9c3e-6f6ecf905e25"
      },
      "id": "b4POsIJmwVE9",
      "execution_count": 75,
      "outputs": [
        {
          "output_type": "stream",
          "name": "stdout",
          "text": [
            "Epoch 1/5\n",
            "25/25 [==============================] - 17s 642ms/step - loss: 0.6990 - binary_accuracy: 0.4752\n",
            "Epoch 2/5\n",
            "25/25 [==============================] - 15s 603ms/step - loss: 0.6968 - binary_accuracy: 0.5083\n",
            "Epoch 3/5\n",
            "25/25 [==============================] - 15s 596ms/step - loss: 0.6981 - binary_accuracy: 0.4892\n",
            "Epoch 4/5\n",
            "25/25 [==============================] - 16s 625ms/step - loss: 0.6961 - binary_accuracy: 0.5032\n",
            "Epoch 5/5\n",
            "25/25 [==============================] - 15s 594ms/step - loss: 0.6982 - binary_accuracy: 0.4777\n"
          ]
        },
        {
          "output_type": "execute_result",
          "data": {
            "text/plain": [
              "<keras.src.callbacks.History at 0x7ec4df60ba30>"
            ]
          },
          "metadata": {},
          "execution_count": 75
        }
      ]
    },
    {
      "cell_type": "code",
      "source": [
        "loss, accuracy = model.evaluate(term_docs_test, label_test)\n",
        "print(loss, accuracy, sep=\"--\")"
      ],
      "metadata": {
        "colab": {
          "base_uri": "https://localhost:8080/",
          "height": 338
        },
        "id": "urb4f8b32d2b",
        "outputId": "fa7fc738-43de-4ffa-826b-1fe993b11d3c"
      },
      "id": "urb4f8b32d2b",
      "execution_count": 59,
      "outputs": [
        {
          "output_type": "error",
          "ename": "TypeError",
          "evalue": "ignored",
          "traceback": [
            "\u001b[0;31m---------------------------------------------------------------------------\u001b[0m",
            "\u001b[0;31mTypeError\u001b[0m                                 Traceback (most recent call last)",
            "\u001b[0;32m<ipython-input-59-609a9c2aca8c>\u001b[0m in \u001b[0;36m<cell line: 1>\u001b[0;34m()\u001b[0m\n\u001b[0;32m----> 1\u001b[0;31m \u001b[0mloss\u001b[0m\u001b[0;34m,\u001b[0m \u001b[0maccuracy\u001b[0m \u001b[0;34m=\u001b[0m \u001b[0mmodel\u001b[0m\u001b[0;34m.\u001b[0m\u001b[0mevaluate\u001b[0m\u001b[0;34m(\u001b[0m\u001b[0mterm_docs_test\u001b[0m\u001b[0;34m,\u001b[0m \u001b[0mlabel_test\u001b[0m\u001b[0;34m,\u001b[0m \u001b[0mepochs\u001b[0m\u001b[0;34m=\u001b[0m\u001b[0;36m10\u001b[0m\u001b[0;34m)\u001b[0m\u001b[0;34m\u001b[0m\u001b[0;34m\u001b[0m\u001b[0m\n\u001b[0m\u001b[1;32m      2\u001b[0m \u001b[0mprint\u001b[0m\u001b[0;34m(\u001b[0m\u001b[0mloss\u001b[0m\u001b[0;34m,\u001b[0m \u001b[0maccuracy\u001b[0m\u001b[0;34m,\u001b[0m \u001b[0msep\u001b[0m\u001b[0;34m=\u001b[0m\u001b[0;34m\"--\"\u001b[0m\u001b[0;34m)\u001b[0m\u001b[0;34m\u001b[0m\u001b[0;34m\u001b[0m\u001b[0m\n",
            "\u001b[0;32m/usr/local/lib/python3.10/dist-packages/keras/src/utils/traceback_utils.py\u001b[0m in \u001b[0;36merror_handler\u001b[0;34m(*args, **kwargs)\u001b[0m\n\u001b[1;32m     68\u001b[0m             \u001b[0;31m# To get the full stack trace, call:\u001b[0m\u001b[0;34m\u001b[0m\u001b[0;34m\u001b[0m\u001b[0m\n\u001b[1;32m     69\u001b[0m             \u001b[0;31m# `tf.debugging.disable_traceback_filtering()`\u001b[0m\u001b[0;34m\u001b[0m\u001b[0;34m\u001b[0m\u001b[0m\n\u001b[0;32m---> 70\u001b[0;31m             \u001b[0;32mraise\u001b[0m \u001b[0me\u001b[0m\u001b[0;34m.\u001b[0m\u001b[0mwith_traceback\u001b[0m\u001b[0;34m(\u001b[0m\u001b[0mfiltered_tb\u001b[0m\u001b[0;34m)\u001b[0m \u001b[0;32mfrom\u001b[0m \u001b[0;32mNone\u001b[0m\u001b[0;34m\u001b[0m\u001b[0;34m\u001b[0m\u001b[0m\n\u001b[0m\u001b[1;32m     71\u001b[0m         \u001b[0;32mfinally\u001b[0m\u001b[0;34m:\u001b[0m\u001b[0;34m\u001b[0m\u001b[0;34m\u001b[0m\u001b[0m\n\u001b[1;32m     72\u001b[0m             \u001b[0;32mdel\u001b[0m \u001b[0mfiltered_tb\u001b[0m\u001b[0;34m\u001b[0m\u001b[0;34m\u001b[0m\u001b[0m\n",
            "\u001b[0;32m/usr/local/lib/python3.10/dist-packages/keras/src/engine/training.py\u001b[0m in \u001b[0;36mevaluate\u001b[0;34m(self, x, y, batch_size, verbose, sample_weight, steps, callbacks, max_queue_size, workers, use_multiprocessing, return_dict, **kwargs)\u001b[0m\n\u001b[1;32m   2131\u001b[0m         \u001b[0muse_cached_eval_dataset\u001b[0m \u001b[0;34m=\u001b[0m \u001b[0mkwargs\u001b[0m\u001b[0;34m.\u001b[0m\u001b[0mpop\u001b[0m\u001b[0;34m(\u001b[0m\u001b[0;34m\"_use_cached_eval_dataset\"\u001b[0m\u001b[0;34m,\u001b[0m \u001b[0;32mFalse\u001b[0m\u001b[0;34m)\u001b[0m\u001b[0;34m\u001b[0m\u001b[0;34m\u001b[0m\u001b[0m\n\u001b[1;32m   2132\u001b[0m         \u001b[0;32mif\u001b[0m \u001b[0mkwargs\u001b[0m\u001b[0;34m:\u001b[0m\u001b[0;34m\u001b[0m\u001b[0;34m\u001b[0m\u001b[0m\n\u001b[0;32m-> 2133\u001b[0;31m             \u001b[0;32mraise\u001b[0m \u001b[0mTypeError\u001b[0m\u001b[0;34m(\u001b[0m\u001b[0;34mf\"Invalid keyword arguments: {list(kwargs.keys())}\"\u001b[0m\u001b[0;34m)\u001b[0m\u001b[0;34m\u001b[0m\u001b[0;34m\u001b[0m\u001b[0m\n\u001b[0m\u001b[1;32m   2134\u001b[0m \u001b[0;34m\u001b[0m\u001b[0m\n\u001b[1;32m   2135\u001b[0m         \u001b[0;32mif\u001b[0m \u001b[0mself\u001b[0m\u001b[0;34m.\u001b[0m\u001b[0mdistribute_strategy\u001b[0m\u001b[0;34m.\u001b[0m\u001b[0m_should_use_with_coordinator\u001b[0m\u001b[0;34m:\u001b[0m\u001b[0;34m\u001b[0m\u001b[0;34m\u001b[0m\u001b[0m\n",
            "\u001b[0;31mTypeError\u001b[0m: Invalid keyword arguments: ['epochs']"
          ]
        }
      ]
    }
  ],
  "metadata": {
    "kernelspec": {
      "display_name": "Python 3 (ipykernel)",
      "language": "python",
      "name": "python3"
    },
    "language_info": {
      "codemirror_mode": {
        "name": "ipython",
        "version": 3
      },
      "file_extension": ".py",
      "mimetype": "text/x-python",
      "name": "python",
      "nbconvert_exporter": "python",
      "pygments_lexer": "ipython3",
      "version": "3.9.7"
    },
    "vscode": {
      "interpreter": {
        "hash": "11938c6bc6919ae2720b4d5011047913343b08a43b18698fd82dedb0d4417594"
      }
    },
    "colab": {
      "provenance": []
    }
  },
  "nbformat": 4,
  "nbformat_minor": 5
}